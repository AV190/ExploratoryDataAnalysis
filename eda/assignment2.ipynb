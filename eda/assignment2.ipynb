{
 "cells": [
  {
   "cell_type": "code",
   "execution_count": 2,
   "metadata": {},
   "outputs": [
    {
     "name": "stdout",
     "output_type": "stream",
     "text": [
      "Missing values per column:\n",
      " LotFrontage      259\n",
      "Alley           1369\n",
      "MasVnrType       872\n",
      "MasVnrArea         8\n",
      "BsmtQual          37\n",
      "BsmtCond          37\n",
      "BsmtExposure      38\n",
      "BsmtFinType1      37\n",
      "BsmtFinType2      38\n",
      "Electrical         1\n",
      "FireplaceQu      690\n",
      "GarageType        81\n",
      "GarageYrBlt       81\n",
      "GarageFinish      81\n",
      "GarageQual        81\n",
      "GarageCond        81\n",
      "PoolQC          1453\n",
      "Fence           1179\n",
      "MiscFeature     1406\n",
      "dtype: int64\n"
     ]
    }
   ],
   "source": [
    "import pandas as pd\n",
    "from sklearn.preprocessing import MinMaxScaler\n",
    "\n",
    "# Load dataset\n",
    "df = pd.read_csv(\"ass2.csv\")\n",
    "\n",
    "# Check for missing values\n",
    "missing_values = df.isnull().sum()\n",
    "print(\"Missing values per column:\\n\", missing_values[missing_values>0])"
   ]
  },
  {
   "cell_type": "code",
   "execution_count": 3,
   "metadata": {},
   "outputs": [],
   "source": [
    "# Fill missing numerical values with mean/median\n",
    "\n",
    "num_cols = df.select_dtypes(include=['number']).columns\n",
    "for col in num_cols:\n",
    "    if df[col].isnull().sum() > 0:\n",
    "        df.loc[:, col] = df[col].fillna(df[col].median())  # Avoid chained assignment warning"
   ]
  },
  {
   "cell_type": "code",
   "execution_count": 4,
   "metadata": {},
   "outputs": [],
   "source": [
    "# Fill missing categorical values with mode or 'Unknown'\n",
    "cat_cols = df.select_dtypes(include=['object']).columns\n",
    "for col in cat_cols:\n",
    "    if df[col].isnull().sum() > 0:\n",
    "        df.loc[:, col] = df[col].fillna(df[col].mode()[0] if not df[col].mode().empty else 'Unknown')  # Avoid chained assignment warning"
   ]
  },
  {
   "cell_type": "code",
   "execution_count": 10,
   "metadata": {},
   "outputs": [],
   "source": [
    "# Drop 'Id' if it exists\n",
    "if 'Id' in df.columns:\n",
    "    df.drop(columns=['Id'], inplace=True)\n",
    "\n",
    "# Redefine num_cols after dropping 'Id'\n",
    "num_cols = [col for col in df.columns if df[col].dtype in ['int64', 'float64']]\n",
    "\n",
    "# Normalize numerical columns\n",
    "from sklearn.preprocessing import MinMaxScaler\n",
    "scaler = MinMaxScaler()\n",
    "df[num_cols] = scaler.fit_transform(df[num_cols])\n"
   ]
  },
  {
   "cell_type": "code",
   "execution_count": 11,
   "metadata": {},
   "outputs": [
    {
     "name": "stdout",
     "output_type": "stream",
     "text": [
      "Data cleaning completed. Cleaned dataset saved as 'housing_prices_cleaned.csv'.\n"
     ]
    }
   ],
   "source": [
    "# Save cleaned dataset\n",
    "df.to_csv(\"housing_prices_cleaned.csv\", index=False)\n",
    "print(\"Data cleaning completed. Cleaned dataset saved as 'housing_prices_cleaned.csv'.\")"
   ]
  }
 ],
 "metadata": {
  "kernelspec": {
   "display_name": "Python 3",
   "language": "python",
   "name": "python3"
  },
  "language_info": {
   "codemirror_mode": {
    "name": "ipython",
    "version": 3
   },
   "file_extension": ".py",
   "mimetype": "text/x-python",
   "name": "python",
   "nbconvert_exporter": "python",
   "pygments_lexer": "ipython3",
   "version": "3.12.3"
  }
 },
 "nbformat": 4,
 "nbformat_minor": 2
}
