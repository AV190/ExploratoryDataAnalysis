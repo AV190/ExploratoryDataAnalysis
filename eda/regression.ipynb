{
 "cells": [
  {
   "cell_type": "code",
   "execution_count": 1,
   "id": "3667020d",
   "metadata": {},
   "outputs": [
    {
     "name": "stdout",
     "output_type": "stream",
     "text": [
      "Using Scikit-learn:\n",
      "Linear Regression Equation: y = 2.05 + 1.25x\n"
     ]
    }
   ],
   "source": [
    "# Import necessary libraries\n",
    "import numpy as np\n",
    "from sklearn.linear_model import LinearRegression\n",
    "\n",
    "# Create the dataset\n",
    "X = np.array([2, 4, 5, 7, 8]).reshape(-1, 1)\n",
    "Y = np.array([4.2, 8.5, 7.1, 10.6, 12.3])\n",
    "\n",
    "# Create and fit the Linear Regression model\n",
    "model = LinearRegression()\n",
    "model.fit(X, Y)\n",
    "\n",
    "# Get slope (coefficient) and intercept\n",
    "b = model.coef_[0]\n",
    "a = model.intercept_\n",
    "\n",
    "# Display the linear regression equation\n",
    "print(\"Using Scikit-learn:\")\n",
    "print(f\"Linear Regression Equation: y = {a:.2f} + {b:.2f}x\")\n"
   ]
  },
  {
   "cell_type": "code",
   "execution_count": 2,
   "id": "f3c560d4",
   "metadata": {},
   "outputs": [
    {
     "name": "stdout",
     "output_type": "stream",
     "text": [
      "Without Using Scikit-learn:\n",
      "Linear Regression Equation: y = 2.05 + 1.25x\n"
     ]
    }
   ],
   "source": [
    "\n",
    "# Create the dataset\n",
    "X = [2, 4, 5, 7, 8]\n",
    "Y = [4.2, 8.5, 7.1, 10.6, 12.3]\n",
    "\n",
    "n = len(X)\n",
    "\n",
    "# Calculate mean of X and Y\n",
    "mean_X = sum(X) / n\n",
    "mean_Y = sum(Y) / n\n",
    "\n",
    "# Calculate Covariance and Variance\n",
    "cov_XY = sum((X[i] - mean_X) * (Y[i] - mean_Y) for i in range(n)) / n\n",
    "var_X = sum((X[i] - mean_X) ** 2 for i in range(n)) / n\n",
    "\n",
    "# Calculate slope (b) and intercept (a)\n",
    "b = cov_XY / var_X\n",
    "a = mean_Y - b * mean_X\n",
    "\n",
    "# Display the linear regression equation\n",
    "print(\"Without Using Scikit-learn:\")\n",
    "print(f\"Linear Regression Equation: y = {a:.2f} + {b:.2f}x\")\n"
   ]
  }
 ],
 "metadata": {
  "kernelspec": {
   "display_name": "Python 3",
   "language": "python",
   "name": "python3"
  },
  "language_info": {
   "codemirror_mode": {
    "name": "ipython",
    "version": 3
   },
   "file_extension": ".py",
   "mimetype": "text/x-python",
   "name": "python",
   "nbconvert_exporter": "python",
   "pygments_lexer": "ipython3",
   "version": "3.12.3"
  }
 },
 "nbformat": 4,
 "nbformat_minor": 5
}
